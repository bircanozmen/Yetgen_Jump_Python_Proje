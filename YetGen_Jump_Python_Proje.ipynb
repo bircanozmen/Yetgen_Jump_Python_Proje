{
  "cells": [
    {
      "cell_type": "markdown",
      "metadata": {
        "id": "view-in-github",
        "colab_type": "text"
      },
      "source": [
        "<a href=\"https://colab.research.google.com/github/bircanozmen/Yetgen_Jump_Python_Proje/blob/main/YetGen_Jump_Python_Proje.ipynb\" target=\"_parent\"><img src=\"https://colab.research.google.com/assets/colab-badge.svg\" alt=\"Open In Colab\"/></a>"
      ]
    },
    {
      "cell_type": "code",
      "execution_count": null,
      "metadata": {
        "id": "qAP6jCeWYBEr"
      },
      "outputs": [],
      "source": [
        "# YetGen Jump Python Proje"
      ]
    },
    {
      "cell_type": "code",
      "execution_count": null,
      "metadata": {
        "colab": {
          "background_save": true
        },
        "id": "sAxlUwKZdEa5",
        "outputId": "c604d008-fe0e-4c18-cbed-3dd6d281a782"
      },
      "outputs": [
        {
          "name": "stdout",
          "output_type": "stream",
          "text": [
            "YETCAFE'ye hoşgeldiniz!\n",
            "Makineyi açmak için '1'e, Makineyi kapatmak için '4'e, Menüyü görüntülemek için '2'ye, kahve yapmak için lütfen '3'e basınız. Çıkmak için '0'ı tuşlayınız.\n"
          ]
        }
      ],
      "source": [
        "menu_listesi={\n",
        "    \"latte\": 40,\n",
        "    \"americano\":35,\n",
        "    \"mocha\": 45,\n",
        "    \"cappuccino\":30,\n",
        "    \"filtreKahve\":25,\n",
        "    \"türkKahvesi\":18\n",
        "}\n",
        "class kahve_otomat():\n",
        "  def __init__(self,otomat_durum = \"Kapalı\"):\n",
        "     self.otomat_durum = \"Kapalı\"\n",
        "     self.kahve = 1200  # grams\n",
        "     self.bardak = 100\n",
        "        \n",
        "  def kahve_otomat_ac(self):\n",
        "      if (self.otomat_durum == \"Açık\"):\n",
        "            print(\"Kahve makinesi zaten açık....\")\n",
        "      else:\n",
        "        print(\"Kahve makinesi açılıyor...\")\n",
        "        self.otomat_durum = \"Açık\"\n",
        "\n",
        "  def kahve_otomat_kapat(self):\n",
        "      if (self.otomat_durum == \"Kapalı\"):\n",
        "        print(\"Kahve makinesi zaten kapalı....\")\n",
        "      else:\n",
        "        print(\"Kahve makinesi kapatılıyor...\")\n",
        "        print(\"TEŞEKKÜR EDERİZ!\")\n",
        "        self.otomat_durum = \"Kapalı\"\n",
        "def display_menu():\n",
        "    print(\"-----KAHVE OTOMATI-----\")\n",
        "    for item in list(menu_listesi.keys()):\n",
        "        print(f\"{item.upper():<10} : {menu_listesi[item]} TL\") \n",
        "def tek_urun_fiyat_hesaplama(eklenecek_urun, ekleme_adedi,mik_, re): \n",
        "    assert ekleme_adedi >= 0 , \"Ürün adedi 0 ve 0'dan küçük olamaz.\"\n",
        "    if eklenecek_urun in list(menu_listesi.keys()):\n",
        "        return menu_listesi[eklenecek_urun] * ekleme_adedi\n",
        "    else:\n",
        "        return None\n",
        "\n",
        "def satin_alma():\n",
        "    display_menu()\n",
        "    print(\"Lütfen satın almak istediğiniz ürünü giriniz. Çıkış yapmak için '0'ı tuşlayınız.\")\n",
        "\n",
        "    satin_alinan_urunler = []\n",
        "    satin_alma_adedi = []\n",
        "    ekleme_adedi=0\n",
        "    mik_= []\n",
        "    re=[]\n",
        "\n",
        " \n",
        "    while 1:\n",
        "        eklenecek_urun = input(\"Hangi üründen eklemek istiyorsunuz? \")\n",
        "        if eklenecek_urun == \"0\":\n",
        "            print(\"Fiş kaydediliyor.\")\n",
        "        ekleme_adedi = int(input(\"Kaç adet eklemek istiyorsunuz? \"))\n",
        "        if (ekleme_adedi>0):\n",
        "          ücret= menu_listesi[eklenecek_urun] * ekleme_adedi\n",
        "        mik_= int(input(\"Kaç ml istiyorsunuz?\"))\n",
        "        if mik_==250:\n",
        "          print(\"Standart fiyat üzerinden hesaplanıyor\")\n",
        "        elif mik_==500:\n",
        "          son_fiyat=ücret+5\n",
        "        elif mik_==750:\n",
        "          son_fiyat=ücret+10  \n",
        "        else:\n",
        "          print(\"Yanlış bir giriş yaptınız!!\")\n",
        "        re= int(input(\"Kaç ml kahve çıkarmak istiyorsunuz?\"))\n",
        "        if re== 0:\n",
        "          print(\"Kahve çıkarılmıyor\")\n",
        "          son_fiyat1=son_fiyat\n",
        "        else:\n",
        "          print(\"4 tl düşülecektir\")\n",
        "          son_fiyat1= son_fiyat-4 \n",
        "          \n",
        "           \n",
        "\n",
        "        if son_fiyat is None:\n",
        "            print(\"Yanlış bir giriş yaptınız, ürün eklenemedi.\")\n",
        "        else:\n",
        "            print(f\"Satın alma ücreti: {son_fiyat1}.\\nSatın almayı onaylamak için 'y' iptal etmek için 'n' giriniz.\")\n",
        "            check = input(\"Satın almayı onaylıyor musunuz? \")\n",
        "            if check == \"y\":\n",
        "                print(\"Satın alım onaylandı.\")\n",
        "                print(\"-\"*40)\n",
        "                son_fiyat += son_fiyat\n",
        "                satin_alinan_urunler.append(eklenecek_urun)\n",
        "                satin_alma_adedi.append(ekleme_adedi)\n",
        "                print(f\"Ara Toplam: {son_fiyat1}\")\n",
        "            elif check == \"n\":\n",
        "                print(\"Satın alma işlemi iptal edildi.\")\n",
        "                print(\"-\"*40)\n",
        "    return son_fiyat, satin_alinan_urunler, satin_alma_adedi, mik_, re \n",
        "\n",
        "    \n",
        "def main():\n",
        "  print(\"YETCAFE'ye hoşgeldiniz!\\nMakineyi açmak için '1'e, Makineyi kapatmak için '4'e, Menüyü görüntülemek için '2'ye, kahve yapmak için lütfen '3'e basınız. Çıkmak için '0'ı tuşlayınız.\")\n",
        "  program = None \n",
        "  otomat = kahve_otomat()\n",
        "  while 1:\n",
        "    program = int(input(\"Tercihiniz: \"))\n",
        "    if program < 0 or program > 5:\n",
        "      print(\"Yanlış bir tercih yaptınız. Lütfen tekrar deneyiniz.\")\n",
        "    elif program == 0:\n",
        "      otomat.kahve_otomat_kapat()\n",
        "    elif program == 4:\n",
        "      otomat.kahve_otomat_kapat()\n",
        "      break\n",
        "    elif program == 1:\n",
        "      otomat.kahve_otomat_ac()\n",
        "    elif program == 2:\n",
        "      display_menu()\n",
        "    elif program == 3:\n",
        "      satin_alma_ucreti, satin_alinan_urunler, satin_alma_adedi = satin_alma()\n",
        "      \"\"\"with open(\"kasa.txt\",\"a\") as f:\n",
        "        f.write(str(time.ctime(time.time())))\n",
        "        f.write(\"\\n\")\n",
        "        f.write(','.join(map(str, satin_alinan_urunler)))\n",
        "        f.write(\"\\n\")\n",
        "        f.write(','.join(map(str, satin_alma_adedi)))\n",
        "        f.write(\"\\n\")\n",
        "        f.write(f\"Toplam: {satin_alma_ucreti}\")\n",
        "        f.write(\"\\n\")\n",
        "        f.write(\"*\"*20)\n",
        "        f.write(\"\\n\")\"\"\"\n",
        "    cikis_kontrol = input(\"Başka bir işlem yapmak istiyor musunuz? (evet-hayır): \")\n",
        "    if cikis_kontrol == \"evet\":\n",
        "      pass\n",
        "    else:\n",
        "      print(\"\\n\\nBİZİ TERCİH ETTİĞİNİZ İÇİN TEŞEKKÜR EDERİZ!\")\n",
        "      break\n",
        "main()"
      ]
    }
  ],
  "metadata": {
    "colab": {
      "collapsed_sections": [],
      "provenance": [],
      "include_colab_link": true
    },
    "kernelspec": {
      "display_name": "Python 3",
      "name": "python3"
    },
    "language_info": {
      "name": "python"
    }
  },
  "nbformat": 4,
  "nbformat_minor": 0
}